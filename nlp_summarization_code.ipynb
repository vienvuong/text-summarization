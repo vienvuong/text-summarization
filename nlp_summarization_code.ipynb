{
 "cells": [
  {
   "cell_type": "code",
   "execution_count": 1,
   "metadata": {},
   "outputs": [],
   "source": [
    "from collections import defaultdict\n",
    "import re\n",
    "import math\n",
    "import statistics\n",
    "from typing import Tuple\n"
   ]
  },
  {
   "cell_type": "code",
   "execution_count": 2,
   "metadata": {},
   "outputs": [],
   "source": [
    "from tqdm import tqdm\n",
    "import matplotlib.pyplot as plt\n",
    "from rouge import Rouge\n",
    "import torch"
   ]
  },
  {
   "cell_type": "code",
   "execution_count": 3,
   "metadata": {},
   "outputs": [],
   "source": [
    "from nltk.corpus import stopwords\n",
    "from nltk.stem.porter import PorterStemmer\n",
    "from nltk.tokenize import word_tokenize, sent_tokenize"
   ]
  },
  {
   "cell_type": "code",
   "execution_count": 4,
   "metadata": {},
   "outputs": [],
   "source": [
    "from gensim.summarization import summarize as gensim_summarize"
   ]
  },
  {
   "cell_type": "code",
   "execution_count": 5,
   "metadata": {},
   "outputs": [],
   "source": [
    "from sumy.parsers.plaintext import PlaintextParser\n",
    "from sumy.nlp.tokenizers import Tokenizer\n",
    "from sumy.summarizers.lex_rank import LexRankSummarizer\n",
    "from sumy.summarizers.lsa import LsaSummarizer\n",
    "from sumy.summarizers.luhn import LuhnSummarizer\n",
    "from sumy.summarizers.kl import KLSummarizer"
   ]
  },
  {
   "cell_type": "code",
   "execution_count": 6,
   "metadata": {},
   "outputs": [
    {
     "name": "stderr",
     "output_type": "stream",
     "text": [
      "2022-06-04 18:37:57.855550: I tensorflow/core/util/util.cc:169] oneDNN custom operations are on. You may see slightly different numerical results due to floating-point round-off errors from different computation orders. To turn them off, set the environment variable `TF_ENABLE_ONEDNN_OPTS=0`.\n",
      "2022-06-04 18:37:57.861824: W tensorflow/stream_executor/platform/default/dso_loader.cc:64] Could not load dynamic library 'libcudart.so.11.0'; dlerror: libcudart.so.11.0: cannot open shared object file: No such file or directory\n",
      "2022-06-04 18:37:57.861844: I tensorflow/stream_executor/cuda/cudart_stub.cc:29] Ignore above cudart dlerror if you do not have a GPU set up on your machine.\n"
     ]
    }
   ],
   "source": [
    "from datasets import load_dataset\n",
    "from transformers import AutoTokenizer, AutoModelWithLMHead, AutoModelForSeq2SeqLM, AutoModelForMaskedLM\n"
   ]
  },
  {
   "cell_type": "code",
   "execution_count": 7,
   "metadata": {},
   "outputs": [
    {
     "name": "stderr",
     "output_type": "stream",
     "text": [
      "Reusing dataset cnn_dailymail (/home/vien/.cache/huggingface/datasets/cnn_dailymail/3.0.0/3.0.0/1b3c71476f6d152c31c1730e83ccb08bcf23e348233f4fcc11e182248e6bf7de)\n"
     ]
    }
   ],
   "source": [
    "dataset = load_dataset('cnn_dailymail', '3.0.0', split='test')[:10]"
   ]
  },
  {
   "cell_type": "code",
   "execution_count": 8,
   "metadata": {},
   "outputs": [],
   "source": [
    "class TFIDFSummarizer:\n",
    "    def __init__(self):\n",
    "        self.stop_words = set(stopwords.words(\"english\"))\n",
    "\n",
    "    def sent_clean(self, sentence) -> str:\n",
    "        # Convert to lowercase\n",
    "        clean_sent = sentence.lower()\n",
    "        # Remove all the special characters\n",
    "        clean_sent = re.sub(r\"[^a-zA-Z0-9\\s]\", \"\", clean_sent)\n",
    "        # Remove all the digits\n",
    "        clean_sent = re.sub(r\"\\d+\", \"\", clean_sent)\n",
    "        # Remove all single-character words\n",
    "        clean_sent = re.sub(r\"\\b\\w\\b\", \"\", clean_sent)\n",
    "        return clean_sent\n",
    "\n",
    "    def words_clean(self, words) -> list:\n",
    "        ps = PorterStemmer()\n",
    "        clean_words = [ps.stem(w) for w in words if w not in self.stop_words]\n",
    "        for word in words:\n",
    "            if word in self.stop_words:\n",
    "                continue\n",
    "            clean_words.append(word)\n",
    "        return clean_words\n",
    "\n",
    "    def sent_word_freqs(self, sentences) -> dict:\n",
    "        sent_word_freqs = dict()\n",
    "        for sentence in sentences:\n",
    "            clean_sent = self.sent_clean(sentence)\n",
    "            word_freqs = defaultdict(int)\n",
    "            words = word_tokenize(clean_sent, language=\"english\")\n",
    "            clean_words = self.words_clean(words)\n",
    "            for word in clean_words:\n",
    "                word_freqs[word] += 1\n",
    "            sent_word_freqs[sentence] = word_freqs\n",
    "        return sent_word_freqs\n",
    "\n",
    "    def tf_scores(self, sent_word_freqs) -> dict:\n",
    "        tf_scores = defaultdict(lambda: dict())\n",
    "        for sent, word_freqs in sent_word_freqs.items():\n",
    "            for word, freq in word_freqs.items():\n",
    "                tf_scores[sent][word] = freq / len(sent)\n",
    "        return tf_scores\n",
    "\n",
    "    def word_sent_freqs(self, sent_word_freqs) -> dict:\n",
    "        word_sent_freqs = defaultdict(int)\n",
    "        for _, word_freqs in sent_word_freqs.items():\n",
    "            for word, _ in word_freqs.items():\n",
    "                word_sent_freqs[word] += 1\n",
    "        return word_sent_freqs\n",
    "\n",
    "    def idf_scores(self, sentences, word_sent_freqs, smooth=True) -> dict:\n",
    "        idf_scores = defaultdict(int)\n",
    "        for word in word_sent_freqs:\n",
    "            if smooth:\n",
    "                # Prevent division by zero\n",
    "                idf_scores[word] = (\n",
    "                    math.log10((1 + len(sentences)) / (1 + float(word_sent_freqs[word]))) + 1\n",
    "                )\n",
    "            else:\n",
    "                idf_scores[word] = math.log10(len(sentences) / float(word_sent_freqs[word]))\n",
    "        return idf_scores\n",
    "\n",
    "    def word_tfidf(self, tf, idf) -> float:\n",
    "        return tf * idf\n",
    "\n",
    "    def sent_tfidf(self, sentence, tf_scores, idf_scores) -> float:\n",
    "        sent_tfidf = 0\n",
    "        clean_sent = self.sent_clean(sentence)\n",
    "        words = word_tokenize(clean_sent, language=\"english\")\n",
    "        clean_words = self.words_clean(words)\n",
    "        for word in clean_words:\n",
    "            sent_tfidf += self.word_tfidf(tf_scores[sentence][word], idf_scores[word])\n",
    "        return sent_tfidf\n",
    "\n",
    "    def sent_scores(self, sentences) -> dict:\n",
    "        # Compute word frequencies for each sentence\n",
    "        sent_word_freqs = self.sent_word_freqs(sentences)\n",
    "        # Compute TF scores for each word\n",
    "        tf_scores = self.tf_scores(sent_word_freqs)\n",
    "\n",
    "        # Compute document (sentence) frequencies for each word\n",
    "        word_sent_freqs = self.word_sent_freqs(sent_word_freqs)\n",
    "        # Compute IDF scores for each word\n",
    "        idf_scores = self.idf_scores(sentences, word_sent_freqs)\n",
    "\n",
    "        sent_scores = dict()\n",
    "        for sentence in sentences:\n",
    "            sent_scores[sentence] = self.sent_tfidf(sentence, tf_scores, idf_scores)\n",
    "        return sent_scores\n",
    "\n",
    "    def summarize(self, text, n=0) -> str:\n",
    "        # Sentence tokenize the original text\n",
    "        sentences = sent_tokenize(text)\n",
    "        # Compute TFIDF scores for each sentence\n",
    "        sent_scores = self.sent_scores(sentences)\n",
    "        # Generate the summary\n",
    "        sorted_sent_scores = sorted(\n",
    "            sent_scores.items(), key=lambda x: x[1], reverse=True\n",
    "        )\n",
    "        # If n not specified return the sentences with scores above 1-stdev from the mean\n",
    "        if n <= 0:\n",
    "            mean = statistics.mean(sent_scores.values())\n",
    "            stdev = statistics.stdev(sent_scores.values())\n",
    "            summary = \" \".join([s for s in sentences if sent_scores[s] >= mean + stdev])\n",
    "            # # If not successful, return most important sentence\n",
    "            # if len(summary) == 0:\n",
    "            #     n = 1\n",
    "        # If n specified or still no summary, return the top n sentences as summary\n",
    "        if n > 0:\n",
    "            top_n_sentences = [s[0] for s in sorted_sent_scores[:n]]\n",
    "            summary = \" \".join([s for s in sentences if s in top_n_sentences])\n",
    "        return summary\n"
   ]
  },
  {
   "cell_type": "code",
   "execution_count": 9,
   "metadata": {},
   "outputs": [],
   "source": [
    "def filter_empty_summaries(hyps, refs) -> Tuple[list, list]:\n",
    "    hyps_and_refs = zip(hyps, refs)\n",
    "    hyps_and_refs = [_ for _ in hyps_and_refs if len(_[0]) > 0]\n",
    "    new_hyps, new_refs = zip(*hyps_and_refs)\n",
    "    return list(new_hyps), list(new_refs)\n",
    "\n",
    "def text_clean(text) -> str:\n",
    "    summarizer = TFIDFSummarizer()\n",
    "    sentences = sent_tokenize(text)\n",
    "    clean_sent_words = []\n",
    "    for sentence in sentences:\n",
    "        clean_sent = summarizer.sent_clean(sentence)\n",
    "        words = word_tokenize(clean_sent, language=\"english\")\n",
    "        clean_words = summarizer.words_clean(words)\n",
    "        clean_sent_words.append(clean_words)"
   ]
  },
  {
   "cell_type": "code",
   "execution_count": 10,
   "metadata": {},
   "outputs": [],
   "source": [
    "def summarize_with_summarizer(summarizer, parser=None, params=\"\") -> Tuple[list, list]:\n",
    "    refs = []\n",
    "    hyps = []\n",
    "    if params:\n",
    "        params_str = f\", {params}\"\n",
    "    document_str = \"parser.document\" if parser else \"text\"\n",
    "    for i in tqdm(range(len(dataset[\"id\"]))):\n",
    "        text = dataset[\"article\"][i]\n",
    "        target = dataset[\"highlights\"][i]\n",
    "        refs.append(target)\n",
    "        if parser:\n",
    "            parser = PlaintextParser.from_string(text, Tokenizer(\"english\"))\n",
    "        actual = eval(f\"summarizer({document_str}{params_str})\")\n",
    "        hyps.append(str(actual))\n",
    "    hyps, refs = filter_empty_summaries(hyps, refs)\n",
    "    return hyps, refs\n",
    "\n",
    "\n",
    "def summarize_with_transformer(model, tokenizer, isT5=False) -> Tuple[list, list]:\n",
    "    device = \"cuda\" if torch.cuda.is_available() else \"cpu\"\n",
    "    refs = dataset[\"highlights\"]\n",
    "    hyps = []\n",
    "    for i in tqdm(range(len(dataset[\"id\"]))):\n",
    "        text = dataset[\"article\"][i]\n",
    "        if isT5:\n",
    "            text = f\"summarize:{text}\"\n",
    "            input_ids = tokenizer.encode(\n",
    "                text, return_tensors=\"pt\", max_length=512, truncation=\"longest_first\"\n",
    "            ).to(device)\n",
    "            summary_ids = model.generate(input_ids)\n",
    "            summary = tokenizer.decode(summary_ids[0], max_length=512)\n",
    "        else:\n",
    "            inputs = tokenizer.batch_encode_plus(\n",
    "                [text], return_tensors=\"pt\", max_length=512, truncation=\"longest_first\"\n",
    "            ).to(device)\n",
    "            summary_ids = model.generate(inputs[\"input_ids\"], early_stopping=True)\n",
    "            summary = tokenizer.decode(\n",
    "                summary_ids[0], skip_special_tokens=True, max_length=512\n",
    "            )\n",
    "        hyps.append(str(summary))\n",
    "    hyps, refs = filter_empty_summaries(hyps, refs)\n",
    "    return hyps, refs\n"
   ]
  },
  {
   "cell_type": "code",
   "execution_count": 11,
   "metadata": {},
   "outputs": [],
   "source": [
    "def add_scores(rouge_scores, new_summarizer, new_scores):\n",
    "    rouge_scores[\"summarizer\"].append(new_summarizer)\n",
    "    rouge_scores[\"rouge-1\"].append(new_scores[\"rouge-1\"][\"f\"])\n",
    "    rouge_scores[\"rouge-2\"].append(new_scores[\"rouge-2\"][\"f\"])\n",
    "    rouge_scores[\"rouge-l\"].append(new_scores[\"rouge-l\"][\"f\"])"
   ]
  },
  {
   "cell_type": "code",
   "execution_count": 12,
   "metadata": {},
   "outputs": [],
   "source": [
    "rouge = Rouge()\n",
    "rouge_scores = {\"summarizer\": [], \"rouge-1\": [], \"rouge-2\": [], \"rouge-l\": []}\n"
   ]
  },
  {
   "cell_type": "code",
   "execution_count": 13,
   "metadata": {},
   "outputs": [
    {
     "name": "stderr",
     "output_type": "stream",
     "text": [
      "100%|██████████| 10/10 [00:00<00:00, 37.82it/s]"
     ]
    },
    {
     "name": "stdout",
     "output_type": "stream",
     "text": [
      "{'rouge-1': {'r': 0.15949505502446684, 'p': 0.1727702073523602, 'f': 0.16036570764806268}, 'rouge-2': {'r': 0.03918594955180321, 'p': 0.035057435254803676, 'f': 0.036471995364060185}, 'rouge-l': {'r': 0.15393949946891125, 'p': 0.1678921585718724, 'f': 0.1551709024532575}}\n"
     ]
    },
    {
     "name": "stderr",
     "output_type": "stream",
     "text": [
      "\n"
     ]
    }
   ],
   "source": [
    "hyps, refs = summarize_with_summarizer(\n",
    "    TFIDFSummarizer().summarize, params=\"n=len(sent_tokenize(target))\"\n",
    ")\n",
    "scores = rouge.get_scores(hyps, refs, avg=True)\n",
    "print(scores)\n",
    "add_scores(rouge_scores, \"TFIDF\", scores)\n"
   ]
  },
  {
   "cell_type": "code",
   "execution_count": 14,
   "metadata": {},
   "outputs": [
    {
     "name": "stderr",
     "output_type": "stream",
     "text": [
      "100%|██████████| 10/10 [00:00<00:00, 84.83it/s]\n"
     ]
    },
    {
     "name": "stdout",
     "output_type": "stream",
     "text": [
      "{'rouge-1': {'r': 0.6699473705944293, 'p': 0.1478411039265784, 'f': 0.24183023473480297}, 'rouge-2': {'r': 0.27644781505757116, 'p': 0.04740967104631121, 'f': 0.0807945636398625}, 'rouge-l': {'r': 0.6212024813201285, 'p': 0.1369535485002086, 'f': 0.22406756758083204}}\n"
     ]
    }
   ],
   "source": [
    "hyps, refs = summarize_with_summarizer(\n",
    "    gensim_summarize, params=\"word_count=len(target)\"\n",
    ")\n",
    "scores = rouge.get_scores(hyps, refs, avg=True)\n",
    "print(scores)\n",
    "add_scores(rouge_scores, \"TextRank\", scores)\n"
   ]
  },
  {
   "cell_type": "code",
   "execution_count": 15,
   "metadata": {},
   "outputs": [
    {
     "name": "stderr",
     "output_type": "stream",
     "text": [
      "100%|██████████| 10/10 [00:00<00:00, 37.89it/s]"
     ]
    },
    {
     "name": "stdout",
     "output_type": "stream",
     "text": [
      "{'rouge-1': {'r': 0.31224854495442733, 'p': 0.20139576653221666, 'f': 0.24374004194707352}, 'rouge-2': {'r': 0.08828407906456688, 'p': 0.053517395530852704, 'f': 0.06639832820611627}, 'rouge-l': {'r': 0.28162634980282036, 'p': 0.1820370467485098, 'f': 0.22015901673304686}}\n"
     ]
    },
    {
     "name": "stderr",
     "output_type": "stream",
     "text": [
      "\n"
     ]
    }
   ],
   "source": [
    "hyps, refs = summarize_with_summarizer(\n",
    "    LexRankSummarizer(), PlaintextParser.from_string, \"len(sent_tokenize(target))\"\n",
    ")\n",
    "scores = rouge.get_scores(hyps, refs, avg=True)\n",
    "print(scores)\n",
    "add_scores(rouge_scores, \"LexRank\", scores)\n"
   ]
  },
  {
   "cell_type": "code",
   "execution_count": 16,
   "metadata": {},
   "outputs": [
    {
     "name": "stderr",
     "output_type": "stream",
     "text": [
      "100%|██████████| 10/10 [00:00<00:00, 31.85it/s]"
     ]
    },
    {
     "name": "stdout",
     "output_type": "stream",
     "text": [
      "{'rouge-1': {'r': 0.2408750874633228, 'p': 0.15475260618694486, 'f': 0.18629811296979382}, 'rouge-2': {'r': 0.036105766861864425, 'p': 0.022178333626228907, 'f': 0.02714593948877104}, 'rouge-l': {'r': 0.20196717802600156, 'p': 0.12880197745900968, 'f': 0.1554784883219603}}\n"
     ]
    },
    {
     "name": "stderr",
     "output_type": "stream",
     "text": [
      "\n"
     ]
    }
   ],
   "source": [
    "hyps, refs = summarize_with_summarizer(\n",
    "    LsaSummarizer(), PlaintextParser.from_string, \"len(sent_tokenize(target))\"\n",
    ")\n",
    "scores = rouge.get_scores(hyps, refs, avg=True)\n",
    "print(scores)\n",
    "add_scores(rouge_scores, \"LSA\", scores)\n"
   ]
  },
  {
   "cell_type": "code",
   "execution_count": 17,
   "metadata": {},
   "outputs": [
    {
     "name": "stderr",
     "output_type": "stream",
     "text": [
      "100%|██████████| 10/10 [00:00<00:00, 106.90it/s]"
     ]
    },
    {
     "name": "stdout",
     "output_type": "stream",
     "text": [
      "{'rouge-1': {'r': 0.38139780728016026, 'p': 0.2030788675628618, 'f': 0.2634659407877432}, 'rouge-2': {'r': 0.13316216574753162, 'p': 0.06641437706474826, 'f': 0.08828113976467925}, 'rouge-l': {'r': 0.33954473189767315, 'p': 0.1794664044036967, 'f': 0.2333997734889949}}\n"
     ]
    },
    {
     "name": "stderr",
     "output_type": "stream",
     "text": [
      "\n"
     ]
    }
   ],
   "source": [
    "hyps, refs = summarize_with_summarizer(\n",
    "    LuhnSummarizer(), PlaintextParser.from_string, \"len(sent_tokenize(target))\"\n",
    ")\n",
    "scores = rouge.get_scores(hyps, refs, avg=True)\n",
    "print(scores)\n",
    "add_scores(rouge_scores, \"Luhn\", scores)\n"
   ]
  },
  {
   "cell_type": "code",
   "execution_count": 18,
   "metadata": {},
   "outputs": [
    {
     "name": "stderr",
     "output_type": "stream",
     "text": [
      "100%|██████████| 10/10 [00:00<00:00, 25.56it/s]\n"
     ]
    },
    {
     "name": "stdout",
     "output_type": "stream",
     "text": [
      "{'rouge-1': {'r': 0.2823435467553114, 'p': 0.1915301177866581, 'f': 0.22675266673047934}, 'rouge-2': {'r': 0.08282164989482063, 'p': 0.05913759913146621, 'f': 0.06826242471487462}, 'rouge-l': {'r': 0.26217585805821103, 'p': 0.1774373282760789, 'f': 0.2102206055872175}}\n"
     ]
    }
   ],
   "source": [
    "hyps, refs = summarize_with_summarizer(\n",
    "    KLSummarizer(), PlaintextParser.from_string, \"len(sent_tokenize(target))\"\n",
    ")\n",
    "scores = rouge.get_scores(hyps, refs, avg=True)\n",
    "print(scores)\n",
    "add_scores(rouge_scores, \"KL-Sum\", scores)\n"
   ]
  },
  {
   "cell_type": "code",
   "execution_count": 19,
   "metadata": {},
   "outputs": [
    {
     "name": "stderr",
     "output_type": "stream",
     "text": [
      "/home/vien/College/fdl/venv/lib/python3.7/site-packages/transformers/models/auto/modeling_auto.py:925: FutureWarning: The class `AutoModelWithLMHead` is deprecated and will be removed in a future version. Please use `AutoModelForCausalLM` for causal language models, `AutoModelForMaskedLM` for masked language models and `AutoModelForSeq2SeqLM` for encoder-decoder models.\n",
      "  FutureWarning,\n",
      "/home/vien/College/fdl/venv/lib/python3.7/site-packages/transformers/models/t5/tokenization_t5_fast.py:161: FutureWarning: This tokenizer was incorrectly instantiated with a model max length of 512 which will be corrected in Transformers v5.\n",
      "For now, this behavior is kept to avoid breaking backwards compatibility when padding/encoding with `truncation is True`.\n",
      "- Be aware that you SHOULD NOT rely on t5-small automatically truncating your input to 512 when padding/encoding.\n",
      "- If you want to encode/pad to sequences longer than 512 you can either instantiate this tokenizer with `model_max_length` or pass `max_length` when encoding/padding.\n",
      "- To avoid this warning, please instantiate this tokenizer with `model_max_length` set to your preferred value.\n",
      "  FutureWarning,\n",
      "100%|██████████| 10/10 [00:07<00:00,  1.36it/s]"
     ]
    },
    {
     "name": "stdout",
     "output_type": "stream",
     "text": [
      "{'rouge-1': {'r': 0.1476421952892541, 'p': 0.34762737262737264, 'f': 0.2038860335888672}, 'rouge-2': {'r': 0.03995734076221881, 'p': 0.10546453546453546, 'f': 0.05633235232261482}, 'rouge-l': {'r': 0.1339034565505154, 'p': 0.32048451548451545, 'f': 0.18602215726910853}}\n"
     ]
    },
    {
     "name": "stderr",
     "output_type": "stream",
     "text": [
      "\n"
     ]
    }
   ],
   "source": [
    "model = AutoModelWithLMHead.from_pretrained(\"t5-small\")\n",
    "tokenizer = AutoTokenizer.from_pretrained(\"t5-small\")\n",
    "hyps, refs = summarize_with_transformer(model, tokenizer, isT5=True)\n",
    "scores = rouge.get_scores(hyps, refs, avg=True)\n",
    "print(scores)\n",
    "add_scores(rouge_scores, \"T5\", scores)\n"
   ]
  },
  {
   "cell_type": "code",
   "execution_count": 20,
   "metadata": {},
   "outputs": [
    {
     "name": "stderr",
     "output_type": "stream",
     "text": [
      "100%|██████████| 10/10 [02:07<00:00, 12.78s/it]"
     ]
    },
    {
     "name": "stdout",
     "output_type": "stream",
     "text": [
      "{'rouge-1': {'r': 0.4286533745357275, 'p': 0.3038160825996531, 'f': 0.3497571883894518}, 'rouge-2': {'r': 0.1912339774047091, 'p': 0.12768319183761684, 'f': 0.14890984764402665}, 'rouge-l': {'r': 0.4027400326223855, 'p': 0.2861576734321438, 'f': 0.3290490622636894}}\n"
     ]
    },
    {
     "name": "stderr",
     "output_type": "stream",
     "text": [
      "\n"
     ]
    }
   ],
   "source": [
    "model = AutoModelWithLMHead.from_pretrained(\"facebook/bart-large-cnn\")\n",
    "tokenizer = AutoTokenizer.from_pretrained(\"facebook/bart-large-cnn\")\n",
    "hyps, refs = summarize_with_transformer(model, tokenizer)\n",
    "scores = rouge.get_scores(hyps, refs, avg=True)\n",
    "print(scores)\n",
    "add_scores(rouge_scores, \"BART\", scores)\n"
   ]
  },
  {
   "cell_type": "code",
   "execution_count": 21,
   "metadata": {},
   "outputs": [
    {
     "name": "stderr",
     "output_type": "stream",
     "text": [
      "  0%|          | 0/10 [00:00<?, ?it/s]Setting `pad_token_id` to `eos_token_id`:50256 for open-end generation.\n",
      "Input length of input_ids is 512, but ``max_length`` is set to 20. This can lead to unexpected behavior. You should consider increasing ``config.max_length`` or ``max_length``.\n",
      " 10%|█         | 1/10 [00:01<00:10,  1.16s/it]Setting `pad_token_id` to `eos_token_id`:50256 for open-end generation.\n",
      "Input length of input_ids is 506, but ``max_length`` is set to 20. This can lead to unexpected behavior. You should consider increasing ``config.max_length`` or ``max_length``.\n",
      " 20%|██        | 2/10 [00:02<00:12,  1.56s/it]Setting `pad_token_id` to `eos_token_id`:50256 for open-end generation.\n",
      "Input length of input_ids is 512, but ``max_length`` is set to 20. This can lead to unexpected behavior. You should consider increasing ``config.max_length`` or ``max_length``.\n",
      " 30%|███       | 3/10 [00:04<00:11,  1.65s/it]Setting `pad_token_id` to `eos_token_id`:50256 for open-end generation.\n",
      "Input length of input_ids is 233, but ``max_length`` is set to 20. This can lead to unexpected behavior. You should consider increasing ``config.max_length`` or ``max_length``.\n",
      " 40%|████      | 4/10 [00:05<00:07,  1.26s/it]Setting `pad_token_id` to `eos_token_id`:50256 for open-end generation.\n",
      "Input length of input_ids is 434, but ``max_length`` is set to 20. This can lead to unexpected behavior. You should consider increasing ``config.max_length`` or ``max_length``.\n",
      " 50%|█████     | 5/10 [00:06<00:06,  1.36s/it]Setting `pad_token_id` to `eos_token_id`:50256 for open-end generation.\n",
      "Input length of input_ids is 512, but ``max_length`` is set to 20. This can lead to unexpected behavior. You should consider increasing ``config.max_length`` or ``max_length``.\n",
      " 60%|██████    | 6/10 [00:08<00:05,  1.45s/it]Setting `pad_token_id` to `eos_token_id`:50256 for open-end generation.\n",
      "Input length of input_ids is 512, but ``max_length`` is set to 20. This can lead to unexpected behavior. You should consider increasing ``config.max_length`` or ``max_length``.\n",
      " 70%|███████   | 7/10 [00:10<00:04,  1.48s/it]Setting `pad_token_id` to `eos_token_id`:50256 for open-end generation.\n",
      "Input length of input_ids is 452, but ``max_length`` is set to 20. This can lead to unexpected behavior. You should consider increasing ``config.max_length`` or ``max_length``.\n",
      " 80%|████████  | 8/10 [00:11<00:02,  1.43s/it]Setting `pad_token_id` to `eos_token_id`:50256 for open-end generation.\n",
      "Input length of input_ids is 387, but ``max_length`` is set to 20. This can lead to unexpected behavior. You should consider increasing ``config.max_length`` or ``max_length``.\n",
      " 90%|█████████ | 9/10 [00:12<00:01,  1.30s/it]Setting `pad_token_id` to `eos_token_id`:50256 for open-end generation.\n",
      "Input length of input_ids is 141, but ``max_length`` is set to 20. This can lead to unexpected behavior. You should consider increasing ``config.max_length`` or ``max_length``.\n",
      "100%|██████████| 10/10 [00:12<00:00,  1.28s/it]"
     ]
    },
    {
     "name": "stdout",
     "output_type": "stream",
     "text": [
      "{'rouge-1': {'r': 0.7502753700988996, 'p': 0.12152004570984978, 'f': 0.2066983610364043}, 'rouge-2': {'r': 0.3473242394461907, 'p': 0.042050214709070735, 'f': 0.07411337328539111}, 'rouge-l': {'r': 0.6965770744006039, 'p': 0.11260205005974347, 'f': 0.1916416797753942}}\n"
     ]
    },
    {
     "name": "stderr",
     "output_type": "stream",
     "text": [
      "\n"
     ]
    }
   ],
   "source": [
    "model = AutoModelWithLMHead.from_pretrained(\"gpt2\")\n",
    "tokenizer = AutoTokenizer.from_pretrained(\"gpt2\")\n",
    "hyps, refs = summarize_with_transformer(model, tokenizer)\n",
    "scores = rouge.get_scores(hyps, refs, avg=True)\n",
    "print(scores)\n",
    "add_scores(rouge_scores, \"GPT2\", scores)\n"
   ]
  },
  {
   "cell_type": "code",
   "execution_count": 22,
   "metadata": {},
   "outputs": [],
   "source": [
    "example = {\n",
    "    \"text\": dataset[\"article\"][0],\n",
    "    \"target_summary\": refs[0],\n",
    "    \"generated_summary\": hyps[0],\n",
    "}"
   ]
  },
  {
   "cell_type": "code",
   "execution_count": 23,
   "metadata": {},
   "outputs": [
    {
     "name": "stderr",
     "output_type": "stream",
     "text": [
      "100%|██████████| 10/10 [06:46<00:00, 40.67s/it]"
     ]
    },
    {
     "name": "stdout",
     "output_type": "stream",
     "text": [
      "{'rouge-1': {'r': 0.3294806456571163, 'p': 0.1665794569985047, 'f': 0.21221853647367586}, 'rouge-2': {'r': 0.08005998066973677, 'p': 0.0353066136282866, 'f': 0.047316280978515146}, 'rouge-l': {'r': 0.2889959141723848, 'p': 0.14565748295309994, 'f': 0.18557720223619423}}\n"
     ]
    },
    {
     "name": "stderr",
     "output_type": "stream",
     "text": [
      "\n"
     ]
    }
   ],
   "source": [
    "model = AutoModelForSeq2SeqLM.from_pretrained(\"google/pegasus-large\")\n",
    "tokenizer = AutoTokenizer.from_pretrained(\"google/pegasus-large\")\n",
    "hyps, refs = summarize_with_transformer(model, tokenizer)\n",
    "scores = rouge.get_scores(hyps, refs, avg=True)\n",
    "print(scores)\n",
    "add_scores(rouge_scores, \"PEGASUS\", scores)\n"
   ]
  },
  {
   "cell_type": "code",
   "execution_count": 24,
   "metadata": {},
   "outputs": [
    {
     "name": "stderr",
     "output_type": "stream",
     "text": [
      "100%|██████████| 10/10 [01:29<00:00,  8.91s/it]\n"
     ]
    }
   ],
   "source": [
    "model = AutoModelForSeq2SeqLM.from_pretrained(\"sshleifer/distilbart-cnn-12-6\")\n",
    "tokenizer = AutoTokenizer.from_pretrained(\"sshleifer/distilbart-cnn-12-6\")\n",
    "hyps, refs = summarize_with_transformer(model, tokenizer)\n",
    "scores = rouge.get_scores(hyps, refs, avg=True)\n",
    "add_scores(rouge_scores, \"DistilBART\", scores)\n"
   ]
  },
  {
   "cell_type": "code",
   "execution_count": 25,
   "metadata": {},
   "outputs": [],
   "source": [
    "rouge_score_tuples = zip(*rouge_scores.values())\n",
    "sorted_rouge_scores = sorted(rouge_score_tuples, key=lambda x: x[1])\n",
    "(\n",
    "    rouge_scores[\"summarizer\"],\n",
    "    rouge_scores[\"rouge-1\"],\n",
    "    rouge_scores[\"rouge-2\"],\n",
    "    rouge_scores[\"rouge-l\"],\n",
    ") = zip(*sorted_rouge_scores)\n"
   ]
  },
  {
   "cell_type": "code",
   "execution_count": 30,
   "metadata": {},
   "outputs": [
    {
     "data": {
      "image/png": "[encoded data removed]",
      "text/plain": [
       "<Figure size 720x432 with 1 Axes>"
      ]
     },
     "metadata": {
      "needs_background": "light"
     },
     "output_type": "display_data"
    }
   ],
   "source": [
    "plt.figure(figsize=(10,6))\n",
    "plt.title(\"Performance of Summamrization Techniques\")\n",
    "plt.xlabel(\"Summarization Techniques\")\n",
    "plt.ylabel(\"ROUGE-N Scores\")\n",
    "plt.xticks(rotation=90)\n",
    "plt.plot(rouge_scores[\"summarizer\"], rouge_scores[\"rouge-1\"], \"o-\", label=\"ROUGE-1\")\n",
    "plt.plot(rouge_scores[\"summarizer\"], rouge_scores[\"rouge-2\"], \"o-.\", label=\"ROUGE-2\")\n",
    "plt.plot(rouge_scores[\"summarizer\"], rouge_scores[\"rouge-l\"], \"o:\", label=\"ROUGE-L\")\n",
    "plt.legend()\n",
    "plt.show()\n"
   ]
  },
  {
   "cell_type": "code",
   "execution_count": null,
   "metadata": {},
   "outputs": [],
   "source": []
  }
 ],
 "metadata": {
  "interpreter": {
   "hash": "cdfa8c34aafafd7dbc03116ca8db0c8287f008b9b0563d309af9768d9e1094f8"
  },
  "kernelspec": {
   "display_name": "Python 3.7.11 ('venv': venv)",
   "language": "python",
   "name": "python3"
  },
  "language_info": {
   "codemirror_mode": {
    "name": "ipython",
    "version": 3
   },
   "file_extension": ".py",
   "mimetype": "text/x-python",
   "name": "python",
   "nbconvert_exporter": "python",
   "pygments_lexer": "ipython3",
   "version": "3.7.11"
  },
  "orig_nbformat": 4
 },
 "nbformat": 4,
 "nbformat_minor": 2
}
